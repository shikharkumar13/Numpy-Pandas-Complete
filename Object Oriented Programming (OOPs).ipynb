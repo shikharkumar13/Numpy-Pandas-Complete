{
 "cells": [
  {
   "cell_type": "markdown",
   "id": "5bfa2d0a",
   "metadata": {},
   "source": [
    "## Classes and Objects"
   ]
  },
  {
   "cell_type": "markdown",
   "id": "872dc9e9",
   "metadata": {},
   "source": [
    "The Car class serves as a blueprint or template for creating individual car objects. It defines the structure and behavior that all car objects will have. Here's how the class and objects relate:\n",
    "1. `Class as a Template`: The Car class defines the attributes (make, model, year, color) and methods (startEngine, accelerate, brake) that any car object will possess.\n",
    "2. `Objects as Instances`: We can create multiple car objects based on this class, each representing a specific car.\n",
    "3. `Unique State`: Each car object has its own set of attribute values, representing its unique state. The honda and toyota objects have different makes, models, years, and colors.\n",
    "4. `Shared Behavior`: All car objects share the same methods defined in the class. Both honda and toyota can call startEngine(), accelerate(), and brake().\n",
    "5. `Memory Allocation`: When we declare the Car class, no memory is allocated. Memory is only allocated when we create car objects using the new keyword.\n",
    "6. `Reusability`: The Car class can be used to create any number of car objects, promoting code reuse and organization."
   ]
  },
  {
   "cell_type": "markdown",
   "id": "430aaa3c",
   "metadata": {},
   "source": [
    "Who can access whatever is written inside the classes (like attributes and methods)?\n",
    "\n",
    "The objects of the class."
   ]
  },
  {
   "cell_type": "markdown",
   "id": "22d30533",
   "metadata": {},
   "source": [
    "### Let's make our first `class`.\n",
    "\n",
    "We will take an example of banking application to understand OOPs concepts."
   ]
  },
  {
   "cell_type": "code",
   "execution_count": 1,
   "id": "44b975e4",
   "metadata": {},
   "outputs": [],
   "source": [
    "class Account:\n",
    "    \n",
    "    def __init__(self, name, accountnumber, balance):  #constructor\n",
    "        self.name = name\n",
    "        self.acc_no = accountnumber\n",
    "        self.bal = balance"
   ]
  },
  {
   "cell_type": "markdown",
   "id": "c4cb71fa",
   "metadata": {},
   "source": [
    "Note : The self is nothing but the current object, the object that we are using or talking about currently. Why do we have to "
   ]
  },
  {
   "cell_type": "code",
   "execution_count": 2,
   "id": "de31dcee",
   "metadata": {},
   "outputs": [],
   "source": [
    "acc1 = Account('Rishabh', 101, 25000)\n",
    "acc2 = Account('Priya', 102, 67548)\n",
    "acc3 = Account('Roshan', 103, 76000)"
   ]
  },
  {
   "cell_type": "code",
   "execution_count": 3,
   "id": "7906c524",
   "metadata": {},
   "outputs": [
    {
     "name": "stdout",
     "output_type": "stream",
     "text": [
      "25000 Rishabh 101\n"
     ]
    }
   ],
   "source": [
    "print(acc1.bal, acc1.name, acc1.acc_no)"
   ]
  },
  {
   "cell_type": "code",
   "execution_count": 4,
   "id": "1b6ac807",
   "metadata": {},
   "outputs": [
    {
     "name": "stdout",
     "output_type": "stream",
     "text": [
      "67548 Priya 102\n"
     ]
    }
   ],
   "source": [
    "print(acc2.bal, acc2.name, acc2.acc_no)"
   ]
  },
  {
   "cell_type": "code",
   "execution_count": 5,
   "id": "4ae8b185",
   "metadata": {},
   "outputs": [
    {
     "name": "stdout",
     "output_type": "stream",
     "text": [
      "<__main__.Account object at 0x00000131838C5190>\n"
     ]
    }
   ],
   "source": [
    "print(acc1)"
   ]
  },
  {
   "cell_type": "markdown",
   "id": "8eed2f02",
   "metadata": {},
   "source": [
    "Above when we print acc1 object we see a cryptic message. We can modify it using `__str__` function."
   ]
  },
  {
   "cell_type": "code",
   "execution_count": 6,
   "id": "a8e4afe4",
   "metadata": {},
   "outputs": [],
   "source": [
    "class Account:\n",
    "    \n",
    "    def __init__(self, name, accountnumber, balance):  #constructor\n",
    "        self.name = name\n",
    "        self.acc_no = accountnumber\n",
    "        self.bal = balance\n",
    "        \n",
    "    def __str__(self):\n",
    "        return f\"The account number {self.acc_no} belongs to {self.name} and the balance in the account is {self.bal}\""
   ]
  },
  {
   "cell_type": "code",
   "execution_count": 7,
   "id": "87c241c4",
   "metadata": {},
   "outputs": [],
   "source": [
    "acc1 = Account('Rishabh', 101, 25000)\n",
    "acc2 = Account('Priya', 102, 67548)\n",
    "acc3 = Account('Roshan', 103, 76000)"
   ]
  },
  {
   "cell_type": "code",
   "execution_count": 10,
   "id": "00d3155f",
   "metadata": {},
   "outputs": [
    {
     "name": "stdout",
     "output_type": "stream",
     "text": [
      "The account number 103 belongs to Roshan and the balance in the account is 76000\n"
     ]
    }
   ],
   "source": [
    "print(acc3)"
   ]
  },
  {
   "cell_type": "markdown",
   "id": "77b2c0c4",
   "metadata": {},
   "source": [
    "### Class Variables"
   ]
  },
  {
   "cell_type": "code",
   "execution_count": 22,
   "id": "12f6caf0",
   "metadata": {},
   "outputs": [],
   "source": [
    "class Account:\n",
    "    counter = 1  #a class variable that will be same for all the object and accessible by all\n",
    "    \n",
    "    def __init__(self, name, balance):  #constructor\n",
    "        self.name = name\n",
    "        self.acc_no = Account.counter\n",
    "        Account.counter += 1\n",
    "        self.bal = balance\n",
    "        \n",
    "    def __str__(self):\n",
    "        return f\"The account number {self.acc_no} belongs to {self.name} and the balance in the account is {self.bal}\""
   ]
  },
  {
   "cell_type": "code",
   "execution_count": 23,
   "id": "4355e1e1",
   "metadata": {},
   "outputs": [],
   "source": [
    "acc1 = Account('Rishabh', 25000)\n",
    "acc2 = Account('Priya', 67548)\n",
    "acc3 = Account('Roshan', 76000)"
   ]
  },
  {
   "cell_type": "code",
   "execution_count": 26,
   "id": "62cdeaf7",
   "metadata": {},
   "outputs": [
    {
     "name": "stdout",
     "output_type": "stream",
     "text": [
      "3\n"
     ]
    }
   ],
   "source": [
    "print(acc3.acc_no)"
   ]
  },
  {
   "cell_type": "markdown",
   "id": "96c88f18",
   "metadata": {},
   "source": [
    "### Default Values in Classes\n",
    "\n",
    "There are two types of variables or attributes in classes:\n",
    "1. **Instance Variables** : The variables which are unique to each object/instance. Ex: customer name, balance, account number.\n",
    "2. **Class/Static Variables** : The variables which are same for all the instances/objects. Ex: Bank IFSC Code, Branch Name etc"
   ]
  },
  {
   "cell_type": "code",
   "execution_count": 29,
   "id": "ea9d0c0b",
   "metadata": {},
   "outputs": [],
   "source": [
    "class Account:\n",
    "    counter = 1 #static variable\n",
    "    \n",
    "    def __init__(self, name, balance=0):  #constructor\n",
    "        self.name = name   #instance variable\n",
    "        self.acc_no = Account.counter\n",
    "        Account.counter += 1\n",
    "        self.bal = balance #instance variable\n",
    "        \n",
    "    def __str__(self):\n",
    "        return f\"The account number {self.acc_no} belongs to {self.name} and the balance in the account is {self.bal}\""
   ]
  },
  {
   "cell_type": "code",
   "execution_count": 30,
   "id": "ce395beb",
   "metadata": {},
   "outputs": [],
   "source": [
    "acc1 = Account('Rishabh')"
   ]
  },
  {
   "cell_type": "code",
   "execution_count": 32,
   "id": "03146d5a",
   "metadata": {},
   "outputs": [
    {
     "data": {
      "text/plain": [
       "0"
      ]
     },
     "execution_count": 32,
     "metadata": {},
     "output_type": "execute_result"
    }
   ],
   "source": [
    "acc1.bal"
   ]
  },
  {
   "cell_type": "markdown",
   "id": "4d917445",
   "metadata": {},
   "source": [
    "### Methods (user defined functions inside classes)"
   ]
  },
  {
   "cell_type": "code",
   "execution_count": 42,
   "id": "b2571d32",
   "metadata": {},
   "outputs": [],
   "source": [
    "class Account:\n",
    "    \n",
    "    def __init__(self, name, accountnumber, balance):  # Constructor\n",
    "        self.name = name\n",
    "        self.acc_no = accountnumber\n",
    "        self.bal = balance\n",
    "        \n",
    "    def __str__(self):\n",
    "        return f\"The account number {self.acc_no} belongs to {self.name} and the balance in the account is {self.bal}\"\n",
    "    \n",
    "    #user defined fn(method) for depositing money in the account\n",
    "    def deposit(self, amount):\n",
    "        if amount > 0:\n",
    "            self.bal += amount\n",
    "            print(f'Deposited: {amount}, New balance: {self.bal}')\n",
    "        else:\n",
    "            print('Deposit amount must be positive.')\n",
    "    \n",
    "    #user defined fn(method) for withdrawing money from the account\n",
    "    def withdraw(self, amount):\n",
    "        if 0 < amount <= self.bal:\n",
    "            self.bal -= amount\n",
    "            print(f'Withdrew: {amount}, New balance: {self.bal}')\n",
    "        elif amount > self.bal:\n",
    "            print('Insufficient funds!')\n",
    "        else:\n",
    "            print('Withdraw amount must be positive.')\n",
    "    \n",
    "    #user defined fn(method) for transferring money from the account\n",
    "    def transfer(self, amount, other_account):\n",
    "        if 0 < amount <= self.bal:\n",
    "            print(f'Transferring {amount} from {self.name} (Account No: {self.acc_no}) to {other_account.name} (Account No: {other_account.acc_no}).')\n",
    "            # Perform the transfer\n",
    "            self.withdraw(amount)\n",
    "            other_account.deposit(amount)\n",
    "            print(f'Transferred {amount} from {self.name} to {other_account.name}.')\n",
    "        elif amount > self.bal:\n",
    "            print('Insufficient funds to transfer!')\n",
    "        else:\n",
    "            print('Transfer amount must be positive.')"
   ]
  },
  {
   "cell_type": "code",
   "execution_count": 43,
   "id": "6537f14d",
   "metadata": {},
   "outputs": [],
   "source": [
    "acc1 = Account('Rishabh', 101, 25000)\n",
    "acc2 = Account('Priya', 102, 67548)\n",
    "acc3 = Account('Roshan', 103, 76000)"
   ]
  },
  {
   "cell_type": "code",
   "execution_count": 44,
   "id": "823e6796",
   "metadata": {},
   "outputs": [
    {
     "name": "stdout",
     "output_type": "stream",
     "text": [
      "Transferring 20000 from Rishabh (Account No: 101) to Priya (Account No: 102).\n",
      "Withdrew: 20000, New balance: 5000\n",
      "Deposited: 20000, New balance: 87548\n",
      "Transferred 20000 from Rishabh to Priya.\n"
     ]
    }
   ],
   "source": [
    "acc1.transfer(20000, acc2)"
   ]
  },
  {
   "cell_type": "markdown",
   "id": "22b33a8d",
   "metadata": {},
   "source": [
    "### Inheritance\n",
    "\n",
    "There are 5 types of inheritance in Python:\n",
    "1. Single inheritance\n",
    "2. Multiple inheritance\n",
    "3. Multilevel inheritance\n",
    "4. Hierarchical inheritance\n",
    "5. Hybrid Inheritance"
   ]
  },
  {
   "cell_type": "code",
   "execution_count": 93,
   "id": "1294c25c",
   "metadata": {},
   "outputs": [],
   "source": [
    "class Account:\n",
    "    \n",
    "    def __init__(self, name, accountnumber, balance):  # Constructor\n",
    "        self.name = name\n",
    "        self.acc_no = accountnumber\n",
    "        self.bal = balance\n",
    "        self.numtrans = 0\n",
    "        self.maxtrans = 2\n",
    "    \n",
    "    def deposit(self, amount):\n",
    "        if amount > 0 and self.numtrans < self.maxtrans:\n",
    "            self.bal += amount\n",
    "            self.numtrans += 1\n",
    "        else:\n",
    "            print('Deposit amount must be positive.')\n",
    "    \n",
    "    def withdraw(self, amount):\n",
    "        if amount > 0 and amount <= self.bal and self.numtrans < self.maxtrans:\n",
    "            self.bal -= amount\n",
    "            self.numtrans += 1\n",
    "        elif amount <= 0:\n",
    "            print('Withdraw amount must be positive.')\n",
    "        elif self.numtrans >= self.maxtrans:\n",
    "            print('Transaction limit reached for today.')\n",
    "        else:\n",
    "            print('Insufficient Funds!')\n",
    "            \n",
    "    def __str__(self):\n",
    "        return f\"The account number {self.acc_no} belongs to {self.name} and the balance in the account is {self.bal}\"\n",
    "    \n",
    "\n",
    "#first child class of Account class, inheriting the code from the parent class Account   \n",
    "class SavingsAccount(Account):\n",
    "    pass\n",
    "\n",
    "#second inherited class of Account class\n",
    "class CurrentAccount(Account):\n",
    "    def __init__(self,name, accountnum, balance, gender):\n",
    "        super().__init__(name, accountnum, balance)\n",
    "        self.maxtrans = 5\n",
    "        self.gender = gender"
   ]
  },
  {
   "cell_type": "code",
   "execution_count": 94,
   "id": "25d88dfa",
   "metadata": {},
   "outputs": [],
   "source": [
    "sav1 = SavingsAccount('Vinay', 301, 90800)"
   ]
  },
  {
   "cell_type": "code",
   "execution_count": 95,
   "id": "76c25a1d",
   "metadata": {},
   "outputs": [],
   "source": [
    "sav1.deposit(5000)"
   ]
  },
  {
   "cell_type": "code",
   "execution_count": 96,
   "id": "43940e8c",
   "metadata": {},
   "outputs": [
    {
     "data": {
      "text/plain": [
       "95800"
      ]
     },
     "execution_count": 96,
     "metadata": {},
     "output_type": "execute_result"
    }
   ],
   "source": [
    "sav1.bal"
   ]
  },
  {
   "cell_type": "code",
   "execution_count": 97,
   "id": "40269977",
   "metadata": {},
   "outputs": [
    {
     "name": "stdout",
     "output_type": "stream",
     "text": [
      "Insufficient Funds!\n"
     ]
    }
   ],
   "source": [
    "sav1.withdraw(103000)"
   ]
  },
  {
   "cell_type": "code",
   "execution_count": 98,
   "id": "520d6a0d",
   "metadata": {},
   "outputs": [
    {
     "data": {
      "text/plain": [
       "95800"
      ]
     },
     "execution_count": 98,
     "metadata": {},
     "output_type": "execute_result"
    }
   ],
   "source": [
    "sav1.bal"
   ]
  },
  {
   "cell_type": "code",
   "execution_count": 99,
   "id": "619e9b67",
   "metadata": {},
   "outputs": [
    {
     "name": "stdout",
     "output_type": "stream",
     "text": [
      "Insufficient Funds!\n"
     ]
    }
   ],
   "source": [
    "sav1.withdraw(102000)"
   ]
  },
  {
   "cell_type": "markdown",
   "id": "b8200c6d",
   "metadata": {},
   "source": [
    "### Encapsulation\n",
    "\n",
    "**Note:** After making a variable private it changes to another variable. Ex. if balance attribute is made private like `__balance` then balance will be referred by `_Account__balance` and it is no more referred by `__balance`, it's identity changes."
   ]
  },
  {
   "cell_type": "code",
   "execution_count": 5,
   "id": "3dadc956",
   "metadata": {},
   "outputs": [],
   "source": [
    "class Account:\n",
    "    def __init__(self, custname, balance=0):\n",
    "        self.name = custname\n",
    "        self.__balance = balance  # Private attribute\n",
    "\n",
    "    def deposit(self, amount):\n",
    "        if amount > 0:\n",
    "            self.__balance += amount\n",
    "            print(f\"${amount} deposited. New balance: ${self.__balance}\")\n",
    "        else:\n",
    "            print(\"Deposit amount must be positive.\")\n",
    "\n",
    "    def withdraw(self, amount):\n",
    "        if amount > 0 and amount <= self.__balance:\n",
    "            self.__balance -= amount\n",
    "            print(f\"${amount} withdrawn. New balance: ${self.__balance}\")\n",
    "        else:\n",
    "            print(\"Insufficient funds or invalid amount.\")\n",
    "\n",
    "    def get_balance(self):\n",
    "        return self.__balance\n",
    "    \n",
    "    def set_balance(self, newamount):\n",
    "        if type(newamount) in [int, float]:\n",
    "            self.__balance = newamount\n",
    "        else:\n",
    "            print('Invalid')"
   ]
  },
  {
   "cell_type": "code",
   "execution_count": 6,
   "id": "79789212",
   "metadata": {},
   "outputs": [
    {
     "name": "stdout",
     "output_type": "stream",
     "text": [
      "$50 deposited. New balance: $150\n",
      "$30 withdrawn. New balance: $120\n",
      "Current balance: $120\n"
     ]
    }
   ],
   "source": [
    "account = Account(\"John Doe\", 100)\n",
    "account.deposit(50)\n",
    "account.withdraw(30)\n",
    "print(f\"Current balance: ${account.get_balance()}\")"
   ]
  },
  {
   "cell_type": "code",
   "execution_count": 7,
   "id": "d9aba8df",
   "metadata": {},
   "outputs": [
    {
     "name": "stdout",
     "output_type": "stream",
     "text": [
      "Invalid\n"
     ]
    }
   ],
   "source": [
    "account.set_balance('hehe')"
   ]
  },
  {
   "cell_type": "markdown",
   "id": "eea3f37c",
   "metadata": {},
   "source": [
    "### Polymorphism"
   ]
  },
  {
   "cell_type": "code",
   "execution_count": 102,
   "id": "6cce0b5c",
   "metadata": {},
   "outputs": [],
   "source": [
    "class Account:\n",
    "    def __init__(self, name, accountnumber, balance):  # Constructor\n",
    "        self.name = name\n",
    "        self.acc_no = accountnumber\n",
    "        self.bal = balance\n",
    "        self.numtrans = 0\n",
    "        self.maxtrans = 2\n",
    "    \n",
    "    def deposit(self, amount):\n",
    "        if amount > 0 and self.numtrans < self.maxtrans:\n",
    "            self.bal += amount\n",
    "            self.numtrans += 1\n",
    "            print(f\"Deposited ${amount}. New balance: ${self.bal}\")\n",
    "        else:\n",
    "            print('Deposit amount must be positive or transaction limit reached.')\n",
    "    \n",
    "    def withdraw(self, amount):\n",
    "        if amount > 0 and amount <= self.bal and self.numtrans < self.maxtrans:\n",
    "            self.bal -= amount\n",
    "            self.numtrans += 1\n",
    "            print(f\"Withdrew ${amount}. New balance: ${self.bal}\")\n",
    "        elif amount <= 0:\n",
    "            print('Withdraw amount must be positive.')\n",
    "        elif self.numtrans >= self.maxtrans:\n",
    "            print('Transaction limit reached for today.')\n",
    "        else:\n",
    "            print('Insufficient Funds!')\n",
    "            \n",
    "    def __str__(self):\n",
    "        return f\"The account number {self.acc_no} belongs to {self.name} and the balance in the account is ${self.bal}\"\n",
    "\n",
    "class SavingsAccount(Account):\n",
    "    def withdraw(self, amount):\n",
    "        # Overriding the withdraw method for SavingsAccount\n",
    "        if amount > 0 and amount <= self.bal and self.numtrans < self.maxtrans:\n",
    "            # Apply a withdrawal fee of $1 for savings accounts\n",
    "            fee = 1\n",
    "            total_amount = amount + fee\n",
    "            if total_amount <= self.bal:\n",
    "                self.bal -= total_amount\n",
    "                self.numtrans += 1\n",
    "                print(f\"Withdrew ${amount} with a fee of ${fee}. New balance: ${self.bal}\")\n",
    "            else:\n",
    "                print('Insufficient Funds after applying withdrawal fee!')\n",
    "        else:\n",
    "            super().withdraw(amount)  # Call the parent class' withdraw method for other conditions\n",
    "\n",
    "class CurrentAccount(Account):\n",
    "    def __init__(self, name, accountnum, balance, gender):\n",
    "        super().__init__(name, accountnum, balance)\n",
    "        self.maxtrans = 5  # Override max transactions for CurrentAccount\n",
    "        self.gender = gender\n",
    "\n",
    "    def withdraw(self, amount):\n",
    "        # Overriding the withdraw method for CurrentAccount with no fees\n",
    "        if amount > 0 and amount <= self.bal and self.numtrans < self.maxtrans:\n",
    "            self.bal -= amount\n",
    "            self.numtrans += 1\n",
    "            print(f\"Withdrew ${amount}. New balance: ${self.bal}\")\n",
    "        else:\n",
    "            super().withdraw(amount)  # Call the parent class' withdraw method for other conditions"
   ]
  },
  {
   "cell_type": "code",
   "execution_count": 105,
   "id": "e4a07445",
   "metadata": {},
   "outputs": [
    {
     "name": "stdout",
     "output_type": "stream",
     "text": [
      "Withdrew $20 with a fee of $1. New balance: $79\n",
      "Withdrew $20. New balance: $180\n"
     ]
    }
   ],
   "source": [
    "savings_account = SavingsAccount(\"Alice\", \"SA123\", 100)\n",
    "current_account = CurrentAccount(\"Bob\", \"CA456\", 200, \"Male\")\n",
    "\n",
    "savings_account.withdraw(20)   \n",
    "current_account.withdraw(20)"
   ]
  },
  {
   "cell_type": "markdown",
   "id": "c2d6ed71",
   "metadata": {},
   "source": [
    "#### Along with Polymorphism, we need to talk about three concepts which are somewhat related:\n",
    "\n",
    "1. **Method Overriding** - Method overriding occurs when a subclass(child class) defines a method with the `same name, parameters, and return type` as a method in its superclass(parent class). The example of it we saw in the above code while implementing polymorphism in our banking application.\n",
    "2. **Method Overloading** - A technique in object-oriented programming that allows multiple methods to have the same name but different parameters in a class.\n",
    "3. **Operator Overloading** - When same operator behaves differently in different scenarios."
   ]
  },
  {
   "cell_type": "markdown",
   "id": "4f7f0a9b",
   "metadata": {},
   "source": [
    "#### Method Overloading example"
   ]
  },
  {
   "cell_type": "code",
   "execution_count": 4,
   "id": "592f3913",
   "metadata": {},
   "outputs": [],
   "source": [
    "class Calculator:\n",
    "    def add(self, a, b):\n",
    "        return a + b\n",
    "    \n",
    "    def add(self, a, b, c):  #same function as the previous one with more parameters\n",
    "        return a + b + c"
   ]
  },
  {
   "cell_type": "markdown",
   "id": "f82fc23d",
   "metadata": {},
   "source": [
    "This code is show how method overloading works in other languages but  Python doesn't support traditional method overloading like other languages. So even though the above code is logically correct it won't work in Python like this, we have to modify it a little to make it work.\n",
    "\n",
    "So first we will try to run as it is and we will see that it gives error and then we will modify it."
   ]
  },
  {
   "cell_type": "code",
   "execution_count": 2,
   "id": "be531263",
   "metadata": {},
   "outputs": [],
   "source": [
    "calc = Calculator()"
   ]
  },
  {
   "cell_type": "code",
   "execution_count": 3,
   "id": "46732c9b",
   "metadata": {},
   "outputs": [
    {
     "ename": "TypeError",
     "evalue": "Calculator.add() missing 1 required positional argument: 'c'",
     "output_type": "error",
     "traceback": [
      "\u001b[1;31m---------------------------------------------------------------------------\u001b[0m",
      "\u001b[1;31mTypeError\u001b[0m                                 Traceback (most recent call last)",
      "Cell \u001b[1;32mIn[3], line 1\u001b[0m\n\u001b[1;32m----> 1\u001b[0m calc\u001b[38;5;241m.\u001b[39madd(\u001b[38;5;241m3\u001b[39m,\u001b[38;5;241m4\u001b[39m)\n",
      "\u001b[1;31mTypeError\u001b[0m: Calculator.add() missing 1 required positional argument: 'c'"
     ]
    }
   ],
   "source": [
    "calc.add(3,4)"
   ]
  },
  {
   "cell_type": "markdown",
   "id": "b1344ad2",
   "metadata": {},
   "source": [
    "Now let's fix the class code to make it work"
   ]
  },
  {
   "cell_type": "code",
   "execution_count": 5,
   "id": "e0c902e7",
   "metadata": {},
   "outputs": [],
   "source": [
    "class Calculator:\n",
    "    #here we are using the default values concept to perform method overloading\n",
    "    def add(self, a, b=0, c=0):\n",
    "        return a + b + c"
   ]
  },
  {
   "cell_type": "code",
   "execution_count": 6,
   "id": "0408f63d",
   "metadata": {},
   "outputs": [
    {
     "name": "stdout",
     "output_type": "stream",
     "text": [
      "5\n",
      "15\n",
      "30\n"
     ]
    }
   ],
   "source": [
    "calc = Calculator()\n",
    "\n",
    "print(calc.add(5))    \n",
    "print(calc.add(5, 10))     \n",
    "print(calc.add(5, 10, 15)) "
   ]
  },
  {
   "cell_type": "code",
   "execution_count": 7,
   "id": "eeb8c85b",
   "metadata": {},
   "outputs": [],
   "source": [
    "#another method to perform the same is using *args method\n",
    "class Calculator:\n",
    "    def add(self, *args):\n",
    "        return sum(args)"
   ]
  },
  {
   "cell_type": "code",
   "execution_count": 8,
   "id": "27a698a2",
   "metadata": {},
   "outputs": [
    {
     "name": "stdout",
     "output_type": "stream",
     "text": [
      "5\n",
      "15\n",
      "50\n"
     ]
    }
   ],
   "source": [
    "calc = Calculator()\n",
    "\n",
    "print(calc.add(5))             \n",
    "print(calc.add(5, 10))         \n",
    "print(calc.add(5, 10, 15, 20)) "
   ]
  },
  {
   "cell_type": "markdown",
   "id": "1c79df7c",
   "metadata": {},
   "source": [
    "#### Operator Overloading example"
   ]
  },
  {
   "cell_type": "code",
   "execution_count": 11,
   "id": "83f430b7",
   "metadata": {},
   "outputs": [
    {
     "data": {
      "text/plain": [
       "'PythonProgramming'"
      ]
     },
     "execution_count": 11,
     "metadata": {},
     "output_type": "execute_result"
    }
   ],
   "source": [
    "'Python' + 'Programming'"
   ]
  },
  {
   "cell_type": "code",
   "execution_count": 10,
   "id": "236f993e",
   "metadata": {},
   "outputs": [
    {
     "data": {
      "text/plain": [
       "[1, 2, 3, 4, 5, 6, 7]"
      ]
     },
     "execution_count": 10,
     "metadata": {},
     "output_type": "execute_result"
    }
   ],
   "source": [
    "[1,2,3,4] + [5,6,7]"
   ]
  },
  {
   "cell_type": "code",
   "execution_count": null,
   "id": "a3458e61",
   "metadata": {},
   "outputs": [],
   "source": [
    "10 + 12"
   ]
  },
  {
   "cell_type": "markdown",
   "id": "a963fcec",
   "metadata": {},
   "source": [
    "In above three examples we have used \"+\" operator but it is performing different tasks in different scenarios. This is known as operator overloading."
   ]
  },
  {
   "cell_type": "markdown",
   "id": "ca320f15",
   "metadata": {},
   "source": [
    "### Abstraction\n",
    "\n",
    "Abstraction refers to hiding unnecessary details from the users. It is achieved through abstract classes and methods.\n",
    "\n",
    "Below is an example where we are using abstract methods which will make it a must for subclasses to implement those methods inside them."
   ]
  },
  {
   "cell_type": "code",
   "execution_count": 106,
   "id": "f6a512cb",
   "metadata": {},
   "outputs": [],
   "source": [
    "from abc import ABC, abstractmethod\n",
    "\n",
    "class Account(ABC):\n",
    "    def __init__(self, name, accountnumber, balance):\n",
    "        self.name = name\n",
    "        self.acc_no = accountnumber\n",
    "        self.bal = balance\n",
    "\n",
    "    @abstractmethod\n",
    "    def deposit(self, amount):\n",
    "        pass\n",
    "\n",
    "    @abstractmethod\n",
    "    def withdraw(self, amount):\n",
    "        pass\n",
    "\n",
    "    def __str__(self):\n",
    "        return f\"The account number {self.acc_no} belongs to {self.name} and the balance in the account is ${self.bal}\"\n",
    "\n",
    "class SavingsAccount(Account):\n",
    "    def deposit(self, amount):\n",
    "        if amount > 0:\n",
    "            self.bal += amount\n",
    "            print(f\"Deposited ${amount}. New balance: ${self.bal}\")\n",
    "        else:\n",
    "            print('Deposit amount must be positive.')\n",
    "\n",
    "    def withdraw(self, amount):\n",
    "        if amount > 0 and amount <= self.bal:\n",
    "            # Apply a withdrawal fee of $1 for savings accounts\n",
    "            fee = 1\n",
    "            total_amount = amount + fee\n",
    "            if total_amount <= self.bal:\n",
    "                self.bal -= total_amount\n",
    "                print(f\"Withdrew ${amount} with a fee of ${fee}. New balance: ${self.bal}\")\n",
    "            else:\n",
    "                print('Insufficient Funds after applying withdrawal fee!')\n",
    "        else:\n",
    "            print('Withdraw amount must be positive or insufficient funds.')\n",
    "\n",
    "class CurrentAccount(Account):\n",
    "    def deposit(self, amount):\n",
    "        if amount > 0:\n",
    "            self.bal += amount\n",
    "            print(f\"Deposited ${amount}. New balance: ${self.bal}\")\n",
    "        else:\n",
    "            print('Deposit amount must be positive.')\n",
    "\n",
    "    def withdraw(self, amount):\n",
    "        if amount > 0 and amount <= self.bal:\n",
    "            self.bal -= amount\n",
    "            print(f\"Withdrew ${amount}. New balance: ${self.bal}\")\n",
    "        else:\n",
    "            print('Withdraw amount must be positive or insufficient funds.')"
   ]
  },
  {
   "cell_type": "code",
   "execution_count": 107,
   "id": "583d1877",
   "metadata": {},
   "outputs": [],
   "source": [
    "# Usage Example\n",
    "savings_account = SavingsAccount(\"Alice\", \"SA123\", 100)\n",
    "current_account = CurrentAccount(\"Bob\", \"CA456\", 200)"
   ]
  },
  {
   "cell_type": "code",
   "execution_count": 108,
   "id": "d75e5b71",
   "metadata": {},
   "outputs": [
    {
     "name": "stdout",
     "output_type": "stream",
     "text": [
      "Deposited $50. New balance: $150\n",
      "Withdrew $20 with a fee of $1. New balance: $129\n",
      "Deposited $100. New balance: $300\n",
      "Withdrew $50. New balance: $250\n"
     ]
    }
   ],
   "source": [
    "savings_account.deposit(50)\n",
    "savings_account.withdraw(20)\n",
    "\n",
    "current_account.deposit(100)\n",
    "current_account.withdraw(50)"
   ]
  },
  {
   "cell_type": "code",
   "execution_count": null,
   "id": "47dad3cb",
   "metadata": {},
   "outputs": [],
   "source": []
  }
 ],
 "metadata": {
  "kernelspec": {
   "display_name": "Python 3 (ipykernel)",
   "language": "python",
   "name": "python3"
  },
  "language_info": {
   "codemirror_mode": {
    "name": "ipython",
    "version": 3
   },
   "file_extension": ".py",
   "mimetype": "text/x-python",
   "name": "python",
   "nbconvert_exporter": "python",
   "pygments_lexer": "ipython3",
   "version": "3.11.7"
  }
 },
 "nbformat": 4,
 "nbformat_minor": 5
}
